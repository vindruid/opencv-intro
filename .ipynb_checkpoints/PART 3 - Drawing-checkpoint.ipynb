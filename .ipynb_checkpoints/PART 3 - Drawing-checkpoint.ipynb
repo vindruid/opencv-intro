{
 "cells": [
  {
   "cell_type": "code",
   "execution_count": null,
   "metadata": {},
   "outputs": [],
   "source": [
    "import cv2\n",
    "from imutils.video import VideoStream"
   ]
  },
  {
   "cell_type": "markdown",
   "metadata": {},
   "source": [
    "# Source : \n",
    "https://docs.opencv.org/2.4/modules/core/doc/drawing_functions.html"
   ]
  },
  {
   "cell_type": "markdown",
   "metadata": {},
   "source": [
    "# Circle\n",
    "\n",
    "Python: cv2.circle(img, center, radius, color, thickness=1, lineType=8, shift=0) → None\n",
    "```\n",
    "    Parameters:\t\n",
    "        img – Image where the circle is drawn.\n",
    "        center – Center of the circle.\n",
    "        radius – Radius of the circle.\n",
    "        color – Circle color.\n",
    "        thickness – Thickness of the circle outline, if positive. Negative thickness means that a filled circle is to be drawn.\n",
    "        lineType – Type of the circle boundary. See the line() description.\n",
    "        shift – Number of fractional bits in the coordinates of the center and in the radius value.\n",
    "```"
   ]
  },
  {
   "cell_type": "markdown",
   "metadata": {},
   "source": [
    "# Rectangle\n",
    "\n",
    "Python: cv.rectangle(img, pt1, pt2, color, thickness=1, lineType=8, shift=0) → None\n",
    "```\n",
    "    Parameters:\t\n",
    "        img – Image.\n",
    "        pt1 – Vertex of the rectangle.\n",
    "        pt2 – Vertex of the rectangle opposite to pt1 .\n",
    "        rec – Alternative specification of the drawn rectangle.\n",
    "        color – Rectangle color or brightness (grayscale image).\n",
    "        thickness – Thickness of lines that make up the rectangle. Negative values, like CV_FILLED , mean that the function has to draw a filled rectangle.\n",
    "        lineType – Type of the line. See the line() description.\n",
    "        shift – Number of fractional bits in the point coordinates.\n",
    "```"
   ]
  },
  {
   "cell_type": "markdown",
   "metadata": {},
   "source": [
    "# Line \n",
    "Python: cv.Line(img, pt1, pt2, color, thickness=1, lineType=8, shift=0) → None\n",
    "```\n",
    "    Parameters:\t\n",
    "        img – Image.\n",
    "        pt1 – First point of the line segment.\n",
    "        pt2 – Second point of the line segment.\n",
    "        color – Line color.\n",
    "        thickness – Line thickness.\n",
    "        lineType –\n",
    "        Type of the line:\n",
    "\n",
    "        8 (or omitted) - 8-connected line.\n",
    "        4 - 4-connected line.\n",
    "        CV_AA - antialiased line.\n",
    "        shift – Number of fractional bits in the point coordinates.\n",
    "```"
   ]
  },
  {
   "cell_type": "markdown",
   "metadata": {},
   "source": [
    "# Put Text\n",
    "\n",
    "Python: cv.putText(img, text, org, font, color) → None\n",
    "```\n",
    "    Parameters:\t\n",
    "        img – Image.\n",
    "        text – Text string to be drawn.\n",
    "        org – Bottom-left corner of the text string in the image.\n",
    "        font – CvFont structure initialized using InitFont().\n",
    "        fontFace – Font type. One of FONT_HERSHEY_SIMPLEX, FONT_HERSHEY_PLAIN, FONT_HERSHEY_DUPLEX, FONT_HERSHEY_COMPLEX, FONT_HERSHEY_TRIPLEX, FONT_HERSHEY_COMPLEX_SMALL, FONT_HERSHEY_SCRIPT_SIMPLEX, or FONT_HERSHEY_SCRIPT_COMPLEX, where each of the font ID’s can be combined with FONT_ITALIC to get the slanted letters.\n",
    "        fontScale – Font scale factor that is multiplied by the font-specific base size.\n",
    "        color – Text color.\n",
    "        thickness – Thickness of the lines used to draw a text.\n",
    "        lineType – Line type. See the line for details.\n",
    "        bottomLeftOrigin – When true, the image data origin is at the bottom-left corner. Otherwise, it is at the top-left corner.\n",
    "```"
   ]
  },
  {
   "cell_type": "code",
   "execution_count": 2,
   "metadata": {},
   "outputs": [],
   "source": [
    "windows_name =  \"Drawing With Open CV\"\n",
    "video = VideoStream(0 + cv2.CAP_DSHOW).start()\n"
   ]
  },
  {
   "cell_type": "code",
   "execution_count": null,
   "metadata": {},
   "outputs": [],
   "source": [
    "while True: \n",
    "    image = video.read()\n",
    "    \n",
    "    ### DRAW\n",
    "    \n",
    "    cv2.rectangle(image,(10,10),(510,128),(0,255,0),3)\n",
    "    ###\n",
    "    \n",
    "    cv2.imshow(windows_name, image)\n",
    "    key = cv2.waitKey(1) & 0xFF\n",
    "    if key == ord(\"q\"):\n",
    "        break\n",
    "\n",
    "cv2.destroyAllWindows()"
   ]
  },
  {
   "cell_type": "code",
   "execution_count": null,
   "metadata": {},
   "outputs": [],
   "source": [
    "while True: \n",
    "    image = video.read()\n",
    "    \n",
    "    ### DRAW\n",
    "    \n",
    "    cv2.rectangle(image,(10,10),(510,128),(0,255,0),3)\n",
    "    cv2.circle(image,(447,63), 63, (0,0,255), -1)\n",
    "    cv2.circle(image,(10,63), 63, (0,255,255))\n",
    "    cv2.putText(image, \"TEST\", (10,63), fontFace = 0, fontScale=0.6, color = (255,255,255))\n",
    "    ###\n",
    "    \n",
    "    cv2.imshow(windows_name, image)\n",
    "    key = cv2.waitKey(1) & 0xFF\n",
    "    if key == ord(\"q\"):\n",
    "        break\n",
    "\n",
    "cv2.destroyAllWindows()"
   ]
  },
  {
   "cell_type": "code",
   "execution_count": null,
   "metadata": {},
   "outputs": [],
   "source": []
  }
 ],
 "metadata": {
  "kernelspec": {
   "display_name": "Python [conda env:env_facenet]",
   "language": "python",
   "name": "conda-env-env_facenet-py"
  },
  "language_info": {
   "codemirror_mode": {
    "name": "ipython",
    "version": 3
   },
   "file_extension": ".py",
   "mimetype": "text/x-python",
   "name": "python",
   "nbconvert_exporter": "python",
   "pygments_lexer": "ipython3",
   "version": "3.7.3"
  }
 },
 "nbformat": 4,
 "nbformat_minor": 2
}
