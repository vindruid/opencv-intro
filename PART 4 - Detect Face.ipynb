{
 "cells": [
  {
   "cell_type": "code",
   "execution_count": 1,
   "metadata": {},
   "outputs": [],
   "source": [
    "import cv2\n",
    "from imutils.video import VideoStream"
   ]
  },
  {
   "cell_type": "code",
   "execution_count": 2,
   "metadata": {},
   "outputs": [],
   "source": [
    "dnn_proto_text='./models/face_detection/deploy.prototxt'\n",
    "dnn_model='./models/face_detection/res10_300x300_ssd_iter_140000.caffemodel'\n",
    "face_ssd = cv2.dnn.readNetFromCaffe(dnn_proto_text, dnn_model)\n",
    "\n",
    "\n",
    "windows_name =  \"Detect Face\"\n",
    "video = VideoStream(1 + cv2.CAP_DSHOW).start()\n"
   ]
  },
  {
   "cell_type": "code",
   "execution_count": 5,
   "metadata": {},
   "outputs": [],
   "source": [
    "threshold = 0.70\n",
    "\n",
    "while True: \n",
    "    image = video.read()\n",
    "    \n",
    "    H, W, _ = image.shape\n",
    "\n",
    "    # cv2.dnn.blobFromImage()\n",
    "    face_ssd.setInput(cv2.dnn.blobFromImage(\n",
    "        image, 1.0, (150, 150), (104.0, 177.0, 123.0), False, False))\n",
    "    detections = face_ssd.forward()\n",
    "\n",
    "    for result in detections[0, 0, :, :]:\n",
    "        confidence = result[2]\n",
    "        if confidence > threshold:\n",
    "            x_left_bottom = int(result[3] * W)\n",
    "            y_left_bottom = int(result[4] * H)\n",
    "            x_right_top = int(result[5] * W)\n",
    "            y_right_top = int(result[6] * H)\n",
    "            \n",
    "            facebox = [x_left_bottom, y_left_bottom, x_right_top, y_right_top ]\n",
    "\n",
    "            cv2.rectangle(image, (facebox[0], facebox[1]),\n",
    "                      (facebox[2], facebox[3]), (0, 255, 0))\n",
    "            label = \"face: %.2f\" % confidence\n",
    "            label_size, base_line = cv2.getTextSize(\n",
    "                label, cv2.FONT_HERSHEY_SIMPLEX, 0.5, 1)\n",
    "\n",
    "            cv2.rectangle(image, (facebox[0], facebox[1] - label_size[1]),\n",
    "                      (facebox[0] + label_size[0],\n",
    "                       facebox[1] + base_line),\n",
    "                      (0, 255, 0), cv2.FILLED)\n",
    "            cv2.putText(image, label, (facebox[0], facebox[1]),\n",
    "                    cv2.FONT_HERSHEY_SIMPLEX, 0.5, (0, 0, 0))\n",
    "            \n",
    "            \n",
    "    cv2.imshow(windows_name, image)\n",
    "    key = cv2.waitKey(1) & 0xFF\n",
    "    if key == ord(\"q\"):\n",
    "        break\n",
    "\n",
    "cv2.destroyAllWindows()"
   ]
  },
  {
   "cell_type": "code",
   "execution_count": null,
   "metadata": {},
   "outputs": [],
   "source": []
  }
 ],
 "metadata": {
  "kernelspec": {
   "display_name": "Python [conda env:env_facenet] *",
   "language": "python",
   "name": "conda-env-env_facenet-py"
  },
  "language_info": {
   "codemirror_mode": {
    "name": "ipython",
    "version": 3
   },
   "file_extension": ".py",
   "mimetype": "text/x-python",
   "name": "python",
   "nbconvert_exporter": "python",
   "pygments_lexer": "ipython3",
   "version": "3.7.3"
  }
 },
 "nbformat": 4,
 "nbformat_minor": 2
}
